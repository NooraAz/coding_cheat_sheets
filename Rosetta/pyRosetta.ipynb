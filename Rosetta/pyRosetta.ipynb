{
  "nbformat": 4,
  "nbformat_minor": 0,
  "metadata": {
    "colab": {
      "name": "pyRosetta.ipynb",
      "provenance": [],
      "collapsed_sections": [],
      "authorship_tag": "ABX9TyOSlpeeSacmgFD1x6LVShsl",
      "include_colab_link": true
    },
    "kernelspec": {
      "name": "python3",
      "display_name": "Python 3"
    },
    "language_info": {
      "name": "python"
    }
  },
  "cells": [
    {
      "cell_type": "markdown",
      "metadata": {
        "id": "view-in-github",
        "colab_type": "text"
      },
      "source": [
        "<a href=\"https://colab.research.google.com/github/NooraAz/coding_cheat_sheets/blob/main/pyRosetta.ipynb\" target=\"_parent\"><img src=\"https://colab.research.google.com/assets/colab-badge.svg\" alt=\"Open In Colab\"/></a>"
      ]
    },
    {
      "cell_type": "markdown",
      "source": [
        "A **pose** is essentialy an object (class) which gets a PDB file as an input, and has all the structural information within itself. One can create a pose from three different ways:\n",
        "1. *pose_from_file(PDB_file)*\n",
        "2. *pose_from_rcsb(PDB_id)*\n",
        "3. *pose_from_sequence(sequence)*"
      ],
      "metadata": {
        "id": "cH9wrz4QhU9F"
      }
    },
    {
      "cell_type": "code",
      "execution_count": null,
      "metadata": {
        "id": "E5z7SNT5eAy1"
      },
      "outputs": [],
      "source": [
        "pose1 = pose_from_file() # it opens both .pdb and .cif\n",
        "pose2 = pose_from_rcsb(\"\")\n",
        "pose3 = pose_from_sequence()\n",
        "pose4 = pose_from_pdb() #it only opens pdb\n",
        "\n",
        "#This command makes a clean file from your pdb file\n",
        "pyrosetta.toolbox.cleanATOM(\"file.pdb\")\n",
        "#and then you can safely make your cleaned pose\n",
        "pose5 = pose_from_file(\"file.clean.pdb\")\n",
        "\n",
        "#You can also clone one pose into another one with assign function\n",
        "pose6 = Pose()\n",
        "pose6.assign(pose1)\n",
        "#or\n",
        "pose7 = pose.clone()\n"
      ]
    },
    {
      "cell_type": "markdown",
      "source": [
        "The pose object has different attributes. Here is a list of them and what each of them means:\n",
        "\n",
        "- *pose.sequence( )* : returns a string containing the sequence of the pose, with one-lettered amino acids.\n",
        "- *pose.annotated_sequence( )* : returns a sring. But the modified amino acids, or ions are annotated.\n",
        "- *pose.total_residue( )* : it gives the number of residues in the sequence. \n",
        "- *pose.residue( i )* : this returns an object contaning the information about the i-th **residue**.\n",
        "- *pose.pdb_info()* : is another onject within pose. it includes **PDB-info** (as it says!) which can be different from rosetta.\n",
        "- *pose.phi( i )* : phi angle of i-th residue\n",
        "- *pose.psi( i )* : psi \" \"\n",
        "- *pose.chi( j , i)* : chi value of j-th atom in i-th residue\n",
        "- *pose.set_phi( i, angle )*\n",
        "- *pose.set_psi( i, anlgle)*\n",
        "- *pose.conformation()* : creates a **conformation** object containing info about torsion angles\n",
        "- *pose.assign(pre-pose)* : clones a previous pose into a new empty pose\n",
        "- *pose.energies().show(i)* : showing the scores of the i-th residue in the pose\n",
        "- *pose.energies().residue_total_energy(i)*: shows the total score of the i-th residue in the pose\n",
        "- *pose.aa(i)* : returns the i-th amino acid\n",
        "- *pose.residue_type( i )* : information about the i-th residue\n",
        "```\n",
        "residue_type( i ).base_name() #3-lettered name\n",
        "residue_type( i ).name3() #3-lettered name\n",
        "residue_type( i ).name1() #1-lettered name\n",
        "```\n",
        "\n",
        "- *pose.fold_tree()* : Shows the foldtree of the pose"
      ],
      "metadata": {
        "id": "XFblE8i1iEPm"
      }
    },
    {
      "cell_type": "markdown",
      "source": [
        "**Residue** itself has different attributes. Here is a list of them:\n",
        "\n",
        "- *residue.name( )*\n",
        "- *residue.is_charged( )*\n",
        "-*residue.is_apolar( )*\n",
        "- *residue.is_metal( )*\n",
        "- *residue.is_protein( )* :checks if the residue is an amino acid or not\n",
        "- *residue.atom_index(\"CA\")* : returns **atom index** of alpha-carbon. it can be used for any other otom of interest within the residue\n",
        "\n",
        "The **atom index** can then be used in a couple other functions to get the info of a specific atom. The following attributes use that as an argument (AI stands for atom index):\n",
        "\n",
        "- *residue.atom_is_backbone(AI)* : returns a boolean\n",
        "- *residue.xyz(\"CA\")* : returns a **vector** containing coordinates of \"CA\" atom. The vectors can be subtracted from each other. Then **vector.norm()** gives the normal distance of this vector (root of sum of squares) which can be used to calculate the distance.\n",
        "- *residue.xyz(pose.residue(i).atom_index('O')* : returns cartesian coordinates of 'O' in ith residue.\n"
      ],
      "metadata": {
        "id": "klYvvPdNmir2"
      }
    },
    {
      "cell_type": "markdown",
      "source": [
        "### **Residue Selectors** \n",
        "\n",
        "For all selectors, selector**.apply(pose)** shows which residues have been selected.\n",
        "\n"
      ],
      "metadata": {
        "id": "Yjfzi0kZ_JTW"
      }
    },
    {
      "cell_type": "markdown",
      "source": [
        "**single position selector***\n",
        "- pyrosetta.rosetta.core.select.residue_selector.**ResidueIndexSelector()**"
      ],
      "metadata": {
        "id": "5pX9sUWZd2H3"
      }
    },
    {
      "cell_type": "code",
      "source": [
        "residue_selector = pyrosetta.rosetta.core.select.residue_selector.ResidueIndexSelector()\n",
        "residue_selector.set_index(i) #select the i-th residue"
      ],
      "metadata": {
        "id": "xwr_y-KsCIwv"
      },
      "execution_count": null,
      "outputs": []
    },
    {
      "cell_type": "markdown",
      "source": [
        "**neighbour selector**\n",
        "\n",
        "- pyrosetta.rosetta.core.select.residue_selector.**NeighborhoodResidueSelector()**\n"
      ],
      "metadata": {
        "id": "XFIjdriNCJEL"
      }
    },
    {
      "cell_type": "code",
      "source": [
        "nbr_selector = pyrosetta.rosetta.core.select.residue_selector.NeighborhoodResidueSelector()\n",
        "nbr_selector.set_focus_selector(residue_selector) #set the focues\n",
        "nbr_selector.set_include_focus_in_subset(True) #include the focus in subset\n",
        "not_nbr_selector = pyrosetta.rosetta.core.select.residue_selector.NotResidueSelector(nbr_selector) #exclude anything else from the design"
      ],
      "metadata": {
        "id": "sZpJQLDMCJSC"
      },
      "execution_count": null,
      "outputs": []
    },
    {
      "cell_type": "markdown",
      "source": [
        "**not residue selector** excludes anything other than residue selector from the design\n",
        "- pyrosetta.rosetta.core.select.residue_selector.**NotResidueSelector(residue_selector)**\n",
        "\n"
      ],
      "metadata": {
        "id": "rxlpZkFvDEpp"
      }
    },
    {
      "cell_type": "code",
      "source": [
        "not_nbr_selector = pyrosetta.rosetta.core.select.residue_selector.NotResidueSelector(residue_selector)"
      ],
      "metadata": {
        "id": "WitE4W5aDuGq"
      },
      "execution_count": null,
      "outputs": []
    },
    {
      "cell_type": "markdown",
      "source": [
        "**Layer selector**\n",
        "\n",
        "- pyrosetta.rosetta.core.select.residue_selector.**LayerSelector()**"
      ],
      "metadata": {
        "id": "NjpUP8Vjcgxk"
      }
    },
    {
      "cell_type": "code",
      "source": [
        "surface_res = pyrosetta.rosetta.core.select.residue_selector.LayerSelector()\n",
        "surface_res.set_layers(False, False, True) #pick_core , pick_boundary, pick_surface (based on accessible surface area)"
      ],
      "metadata": {
        "id": "RA39Bmd8c2fS"
      },
      "execution_count": null,
      "outputs": []
    },
    {
      "cell_type": "markdown",
      "source": [
        "**pdb_info** has some attributes as well:\n",
        "\n",
        "- *pdb_info.chain( i )* : return which chain the i-th residue exist in\n",
        "- *pdb_info.number( i )* : returns the index of i-th residue in pdb file\n",
        "- *pdb_info.pdb2pose( x , i )* : returns pose number of i-th residue in x chain\n",
        "- *pdb_info.pose2pdb( i )* : returns pdb number and chain of i-th residue"
      ],
      "metadata": {
        "id": "SLXW64NNNYdi"
      }
    },
    {
      "cell_type": "markdown",
      "source": [
        "**AtomID(AI,i)** simply returns a tuple of an atom with index of AI from i-th residue in this format:\n",
        "\n",
        "atomno= AI  rsd= i \n",
        "\n",
        "But we will use it a lot later on. So that's needed. We will call it **ID** here on. "
      ],
      "metadata": {
        "id": "hWUx1srZTeVm"
      }
    },
    {
      "cell_type": "markdown",
      "source": [
        "**conformation** attributes:\n",
        "\n",
        "- *conformation.**bond_length**( ID1, ID2 )*: returns the distance between two atoms\n",
        "- *conformation.**bond_angle**( ID1, ID2, ID3 )*: the angle between three atoms (in radians!)\n",
        "- *conformation.**is_disulfide_bond**(pose.conformation(), i, j)*\n",
        "- *conformation.**break_disulfide**(pose.conformation(), i, j)*\n",
        "- conformation().Symmetry_Info()"
      ],
      "metadata": {
        "id": "MzVo9mvrTIsG"
      }
    },
    {
      "cell_type": "markdown",
      "source": [
        "# **PyMOLMover**"
      ],
      "metadata": {
        "id": "e6MgjPiFcFxE"
      }
    },
    {
      "cell_type": "markdown",
      "source": [
        "first open PyMOL.py file into pymol."
      ],
      "metadata": {
        "id": "VU4bb59giYsx"
      }
    },
    {
      "cell_type": "code",
      "source": [
        "from pyrosetta import PyMOLMover"
      ],
      "metadata": {
        "id": "blIxfB1ycPKe"
      },
      "execution_count": null,
      "outputs": []
    },
    {
      "cell_type": "code",
      "source": [
        "#connecting colab to pymol\n",
        "if os.getenv(\"DEBUG\"): sys.exit(0)\n",
        "import pyrosetta.network\n",
        "pyrosetta.network.start_udp_to_tcp_bridge_daemon(secret='any-phrase-you-like')"
      ],
      "metadata": {
        "id": "wVDbrer3erYS"
      },
      "execution_count": null,
      "outputs": []
    },
    {
      "cell_type": "markdown",
      "source": [
        "PyMOLMover is a class. So we can define a new object with it. "
      ],
      "metadata": {
        "id": "_u1IdRYbc9Pt"
      }
    },
    {
      "cell_type": "code",
      "source": [
        "PMM = PyMOLMover()"
      ],
      "metadata": {
        "id": "8kvspvyPdErI"
      },
      "execution_count": null,
      "outputs": []
    },
    {
      "cell_type": "markdown",
      "source": [
        "PyMOLMover attributes:\n",
        "\n",
        "- *PMM.apply(pose)* : shows pose in pymol\n",
        "- *PMM.send_hbonds(pose)*: shows hydrogen bonds of the pose\n",
        "- *PMM.send_energy(pose)* : colors the protein based on energy scores\n",
        "- *PMM.send_energy(pose, score_name)* : colors the protein based on that specific score_name\n",
        "- *PMM.label_energy(pose, \"score_name\")* : labels the CA atoms with the score_name values\n",
        "- *PMM.keep_history(True)* : keeping the history of changes in pymol\n",
        "- *PMM.pymol_name(\"name\")* : set a name to your input before applying"
      ],
      "metadata": {
        "id": "VFPy5zPZdJe6"
      }
    },
    {
      "cell_type": "markdown",
      "source": [
        "# **Score Function**"
      ],
      "metadata": {
        "id": "bpfMBOpszc01"
      }
    },
    {
      "cell_type": "code",
      "source": [
        "score_function = get_score_function(True)\n",
        "#this is in pyrosetta.teaching namespace \n",
        "#True: All-atom energy function\n",
        "#False: centroid score function\n",
        "\n",
        "#full-atom score function\n",
        "score_function = get_fa_scorefxn()\n",
        "\n",
        "#create centroid score function\n",
        "score_function = pyrosetta.create_score_function(\"score3\")"
      ],
      "metadata": {
        "id": "iwPrVSE5zmfe"
      },
      "execution_count": null,
      "outputs": []
    },
    {
      "cell_type": "code",
      "source": [
        "score_function = ScoreFunction() \n",
        "#This is an object now. "
      ],
      "metadata": {
        "id": "Oj31n9_f4BY6"
      },
      "execution_count": null,
      "outputs": []
    },
    {
      "cell_type": "markdown",
      "source": [
        "ScoreFunction attributes:\n",
        "\n",
        "- sfxn.**set_weight**( score_name, i) : This sets i as score of score_name. score_names are something like fa_atr (attractive forces) or fa_rep (repulsive forces)\n",
        "- *sfxn(pose)* : returns total energy of that pose, based on energy terms of this specific score function\n",
        "- *sfxn.show(pose)* : showing itemized scores\n"
      ],
      "metadata": {
        "id": "OoNKeNKG4Ov2"
      }
    },
    {
      "cell_type": "code",
      "source": [
        "sxfn(pose) \n",
        "#this returns the total energy of that pose\n",
        "\n"
      ],
      "metadata": {
        "id": "yl38i2w55SH_"
      },
      "execution_count": null,
      "outputs": []
    },
    {
      "cell_type": "markdown",
      "source": [
        "**score function between two atoms**\n",
        "\n",
        "*etable_atom_pair_energies(res1,AI1,res2,AI2,sfxn)*\n",
        "\n",
        "returns returns a the energies for attractive, repulsive ,solvation and electrostatic scores. (lj_atr, lj_rep, fa_solv, and fa_elec potentials respectively)\n",
        "\n",
        "**score function between two residues**\n",
        "\n",
        "*emap = EMapVector( )*\n",
        "\n",
        "*sfxn.eval_ci_2b( res1 , res2 , pose , emap )*\n",
        "\n",
        "emap elements can be accessed by name indexing. e.g. emap[fa_atr]\n",
        "\n",
        "**RMSD between two poses** (only alpha-carbon)\n",
        "\n",
        "pyrosetta.rosetta.core.scoring.**CA_rmsd**(pose1, pose2)\n"
      ],
      "metadata": {
        "id": "8WxyrH2yBo10"
      }
    },
    {
      "cell_type": "markdown",
      "source": [
        "# **Movers**"
      ],
      "metadata": {
        "id": "ALnW1QUQUByk"
      }
    },
    {
      "cell_type": "markdown",
      "source": [
        "**small mover** : small random phi-psi movements \n",
        "(it has lever effect)"
      ],
      "metadata": {
        "id": "p8EFwPT3Uc-V"
      }
    },
    {
      "cell_type": "code",
      "source": [
        "smm = pyrosetta.rosetta.protocols.simple_moves.SmallMover()"
      ],
      "metadata": {
        "id": "rrbULFd-UdZG"
      },
      "execution_count": null,
      "outputs": []
    },
    {
      "cell_type": "markdown",
      "source": [
        "small mover attributes:\n",
        "\n",
        "- *smm.nomves(n)*: moves the smm n times\n",
        "- *smm.apply(pose)* : changes the pose (which can be later showed on pymol using pmm.apply(pose)"
      ],
      "metadata": {
        "id": "9dYndTCGUl0z"
      }
    },
    {
      "cell_type": "markdown",
      "source": [
        "**shear mover**: just like small mover, with reduced lever effect"
      ],
      "metadata": {
        "id": "XHT4rxcSWMoW"
      }
    },
    {
      "cell_type": "code",
      "source": [
        "shm = pyrosetta.rosetta.protocols.simple_moves.ShearMover()"
      ],
      "metadata": {
        "id": "PFwM_B8rYjnZ"
      },
      "execution_count": null,
      "outputs": []
    },
    {
      "cell_type": "markdown",
      "source": [
        "shear mover attributes:\n",
        "\n",
        "- *shm.nomves(n)*: moves the shm n times\n",
        "- *shm.apply(pose)* : changes the pose (which can be later showed on pymol using pmm.apply(pose)"
      ],
      "metadata": {
        "id": "YPEBqGGlZ0AX"
      }
    },
    {
      "cell_type": "markdown",
      "source": [
        "**Backrub mover**: it removes lever effect, but changes bond angles a little"
      ],
      "metadata": {
        "id": "LnpyDZFkZ7_g"
      }
    },
    {
      "cell_type": "code",
      "source": [
        "brm = pyrosetta.rosetta.protocols.backrub.BackrubMover()"
      ],
      "metadata": {
        "id": "eij0uxejaavk"
      },
      "execution_count": null,
      "outputs": []
    },
    {
      "cell_type": "markdown",
      "source": [
        "backrub mover attributes:\n",
        "- *brm.apply(pose)*"
      ],
      "metadata": {
        "id": "ckG-vkd7ajUp"
      }
    },
    {
      "cell_type": "markdown",
      "source": [
        "**Mutate residue**\n"
      ],
      "metadata": {
        "id": "zDezQHkEbePG"
      }
    },
    {
      "cell_type": "code",
      "source": [
        "mr = pyrosetta.rosetta.protocols.simple_moves.MutateResidue()"
      ],
      "metadata": {
        "id": "LsvvI3FBbjcj"
      },
      "execution_count": null,
      "outputs": []
    },
    {
      "cell_type": "markdown",
      "source": [
        "mutate residue attributes:\n",
        " - *mr.set_target(i)* : target the i-th residue\n",
        " - *mr.set_res_name('ALA')* : change the residue to Alanine\n",
        " - *mr.apply(pose)* : changes the pose"
      ],
      "metadata": {
        "id": "sQgkWbKsbttn"
      }
    },
    {
      "cell_type": "markdown",
      "source": [
        "**Rigid body mover**"
      ],
      "metadata": {
        "id": "ToJUYwM-9PZX"
      }
    },
    {
      "cell_type": "code",
      "source": [
        "rigid = pyrosetta.rosetta.protocols\n",
        "\n",
        "rbm = rigid.RigidBodyPerturbMover(jump_number, rotation_mean , translation_mean) #exact mover\n",
        "rbm = rigid.RigidBodyRandomizeMover(pose, jump_number , rigid_moves.partner_upstream) #randomized mover"
      ],
      "metadata": {
        "id": "F60rX6wz9gu8"
      },
      "execution_count": null,
      "outputs": []
    },
    {
      "cell_type": "markdown",
      "source": [
        "# **Folding**"
      ],
      "metadata": {
        "id": "zFsCW7o8AcFY"
      }
    },
    {
      "cell_type": "markdown",
      "source": [
        "**Switch** mover \n",
        "switches a pose between residue types set"
      ],
      "metadata": {
        "id": "LAED71lDAfMX"
      }
    },
    {
      "cell_type": "code",
      "source": [
        "#low-resolution centroid\n",
        "switch = SwitchResidueTypeSetMover(\"centroid\")\n",
        "switch.apply(pose)"
      ],
      "metadata": {
        "id": "PPu-9yUIgD1n"
      },
      "execution_count": null,
      "outputs": []
    },
    {
      "cell_type": "code",
      "source": [
        "#standard \n",
        "fa_switch = SwitchResidueTypeSetMover(\"fa_standard\")\n",
        "fa_switch.apply(pose)"
      ],
      "metadata": {
        "id": "KPzeKqF4hofu"
      },
      "execution_count": null,
      "outputs": []
    },
    {
      "cell_type": "markdown",
      "source": [
        "# **Fragments**"
      ],
      "metadata": {
        "id": "kn3bqYwHVCTS"
      }
    },
    {
      "cell_type": "code",
      "source": [
        "from pyrosetta.rosetta.core.fragment import *\n",
        "fragset = ConstantLengthFragSet(3)\n",
        "fragset.read_fragment_file(\"inputs/3mer.frags\")"
      ],
      "metadata": {
        "id": "-5meEA64VFP6"
      },
      "execution_count": null,
      "outputs": []
    },
    {
      "cell_type": "markdown",
      "source": [
        ""
      ],
      "metadata": {
        "id": "CAwLMlGzVHCW"
      }
    },
    {
      "cell_type": "markdown",
      "source": [
        "# **Packing**\n",
        "\n",
        "optimizing the sidechains"
      ],
      "metadata": {
        "id": "d1_AtBWOgD9W"
      }
    },
    {
      "cell_type": "markdown",
      "source": [
        "### **TaskFactory**\n",
        "\n",
        "1. Initiate it\n",
        "```\n",
        "tf = pyrosetta.rosetta.core.pack.task.TaskFactory()\n",
        "```\n",
        "2. standard commands\n",
        "```\n",
        "tf.push_back(pyrosetta.rosetta.core.pack.task.operation.InitializeFromCommandline())\n",
        "tf.push_back(pyrosetta.rosetta.core.pack.task.operation.IncludeCurrent())\n",
        "tf.push_back(pyrosetta.rosetta.core.pack.task.operation.NoRepackDisulfides())\n",
        "```\n",
        "3. Case specific task operation\n",
        "4. Take a look at your task factory (optional)\n",
        "```\n",
        "packer_task = tf.create_task_and_apply_taskoperations(pose)\n",
        "print(packer_task)\n",
        "```\n",
        "\n",
        "\n",
        "5. Then you can pass it to FastRelax later on. \n",
        "\n",
        "\n",
        "\n",
        "\n",
        "\n",
        "\n"
      ],
      "metadata": {
        "id": "R9Uljkp0hQj8"
      }
    },
    {
      "cell_type": "markdown",
      "source": [
        "[Disable anything other than repacking everywhere](https://)\n",
        "tf.push_back(pyrosetta.rosetta.core.pack.task.operation.**RestrictToRepacking**())\n",
        "\n",
        "---\n",
        "[Disabling repacking on anywhere other than selected residues:](https://) \n",
        "\n",
        " prevent = pyrosetta.rosetta.core.pack.task.operation.**PreventRepackingRLT()**\n",
        "  \n",
        "  subset = pyrosetta.rosetta.core.pack.task.operation.**OperateOnResidueSubset**(prevent,res-selector)\n",
        "    \n",
        "  tf.push_back(sebset)\n",
        "\n",
        "---\n",
        "[Disabling anything other than repacking on anywhere other than selected residues:](https://) \n",
        "\n",
        "prevent = pyrosetta.rosetta.core.pack.task.operation.**RestrictToRepackingRLT()**\n",
        "\n",
        "subset = pyrosetta.rosetta.core.pack.task.operation.**OperateOnResidueSubset**(prevent,res-selector)\n",
        "\n",
        "tf.push_back(subset)\n",
        "\n",
        "---\n",
        "[Disabling](https://) \n",
        "\n",
        "prevent = pyrosetta.rosetta.core.pack.task.operation.**RestrictAbsentCanonicalAASRLT()**\n",
        "\n",
        "prevent.**aas_to_keep(amino)**\n",
        "\n",
        "subset = pyrosetta.rosetta.core.pack.task.operation.**OperateOnResidueSubset**(prevent, res-selector)\n",
        "\n",
        "\n",
        "tf.push_back(subset)\n",
        "\n",
        "---\n",
        "[including the resfile](https://)\n",
        "tf.push_back(pyrosetta.rosetta.core.pack.task.operation.**ReadResfile**(resfile)) \n",
        "\n",
        "---\n",
        "\n",
        "tf.**create_task_and_apply_taskoperations**(pose)\n",
        "\n",
        "---\n",
        "\n",
        "\n",
        "\n",
        "\n"
      ],
      "metadata": {
        "id": "c9rAOA0Qhqox"
      }
    },
    {
      "cell_type": "markdown",
      "source": [
        "### **Packer**\n",
        "\n",
        "- pyrosetta.rosetta.protocols.minimization_packing.**PackRotamersMover()**"
      ],
      "metadata": {
        "id": "6Z1OaM6xiMaC"
      }
    },
    {
      "cell_type": "code",
      "source": [
        "packer = pyrosetta.rosetta.protocols.minimization_packing.PackRotamersMover()\n",
        "packer.task_factory(tf) #passing the task factory to packer.\n",
        "packer.apply(pose) #applying packer to the pose"
      ],
      "metadata": {
        "id": "LPlOPkVriRQZ"
      },
      "execution_count": null,
      "outputs": []
    },
    {
      "cell_type": "markdown",
      "source": [
        "### **Fast Relax**\n",
        "\n"
      ],
      "metadata": {
        "id": "rTvRYU8d5fIZ"
      }
    },
    {
      "cell_type": "code",
      "source": [
        "fr = pyrosetta.rosetta.protocols.relax.FastRelax() #initiating the FastRelax object\n",
        "#or\n",
        "fr = pyrosetta.rosetta.protocols.relax.FastRelax(scorefxn_in=scorefxn, standard_repeats=1)\n",
        "\n",
        "\n",
        "fr.set_scorefxn(sfxn) #setting the score function\n",
        "fr.max_iter(n) #setting max itertations to n\n",
        "fr.apply(pose) #applying FastRelax to the pose\n",
        "\n",
        "\n",
        "fr.constrain_relax_to_start_coords(True) #result in the lowest RMSD"
      ],
      "metadata": {
        "id": "xeS6ZKS06B-L"
      },
      "execution_count": null,
      "outputs": []
    },
    {
      "cell_type": "code",
      "source": [
        "fr.cartesian(True) #using cartesian\n",
        "fr.set_task_factory(tf) #setting the task factory\n",
        "fr.set_movemap_factory(mmf) #setting the movemap factory\n",
        "fr.min_type(\"lbfgs_armijo_nonmonotone\") #mintype (for cartesian scorefunction)"
      ],
      "metadata": {
        "id": "YI_8OfX8JSiF"
      },
      "execution_count": null,
      "outputs": []
    },
    {
      "cell_type": "markdown",
      "source": [
        "# **Constraints**"
      ],
      "metadata": {
        "id": "-Pp4M_iAgCjQ"
      }
    },
    {
      "cell_type": "markdown",
      "source": [
        "We will take these stpes:\n",
        "1. add contraint to score function\n",
        "2. apply it to the pose"
      ],
      "metadata": {
        "id": "IuXn0CwzgPEe"
      }
    },
    {
      "cell_type": "code",
      "source": [
        "#1\n",
        "sfxn.set_weight(constraint_name, 1.0)\n",
        "\n",
        "#2 (can be used reversibly)\n",
        "add_fa_constraints_from_cmdline(pose, sfxn)\n",
        "add_fa_constraints_from_cmdline_to_pose(pose_perturbed)"
      ],
      "metadata": {
        "id": "tVCQFLeOgXt1"
      },
      "execution_count": null,
      "outputs": []
    },
    {
      "cell_type": "markdown",
      "source": [
        "Create a constraint:"
      ],
      "metadata": {
        "id": "03HjDRy9iI-w"
      }
    },
    {
      "cell_type": "code",
      "source": [
        "apcg = pyrosetta.rosetta.protocols.constraint_generator.AtomPairConstraintGenerator() #initiate the constraint\n",
        "apcg.set_residue_selector(selector) #set it to the selector\n",
        "apcg.set_max_distance(n) #set maximum distance to n\n",
        "apcg.set_sd(n) #set standard-deviation to n\n",
        "apcg.set_ca_only(True) #set it only to c-alpha atoms"
      ],
      "metadata": {
        "id": "0RFQK5wbiTUe"
      },
      "execution_count": null,
      "outputs": []
    },
    {
      "cell_type": "markdown",
      "source": [
        "applying multiple constrains to the pose"
      ],
      "metadata": {
        "id": "Ke9mpVD_i_DS"
      }
    },
    {
      "cell_type": "code",
      "source": [
        "add_csts = AddConstraints() #initiate add constraints object\n",
        "add_csts.add_generator(apcg) #add your desired constraint to the AddConstraints\n",
        "add_csts.apply(pose) #apply constraints to the pose (you can apply single constraints to the pose too)"
      ],
      "metadata": {
        "id": "rzUyzQdHjEfg"
      },
      "execution_count": null,
      "outputs": []
    },
    {
      "cell_type": "code",
      "source": [
        "pyrosetta.rosetta.protocols.docking.setup_foldtree(pose, partners, Vector1([-1,-1,-1])) #We don't know what it's doing. (it's on session 8.02)\n",
        "\n",
        "pyrosetta.rosetta.protocols.docking.setup_foldtree(pose, \"rigidChain(s)_movingChain(s)\", Vector1([1])) #identifies the first jump for docking"
      ],
      "metadata": {
        "id": "WE4Rc29dl4NT"
      },
      "execution_count": null,
      "outputs": []
    },
    {
      "cell_type": "markdown",
      "source": [
        "**Trans mover**"
      ],
      "metadata": {
        "id": "d5yXXcvimYCF"
      }
    },
    {
      "cell_type": "code",
      "source": [
        "trans_mover = pyrosetta.rosetta.protocols.rigid.RigidBodyTransMover(pose,n)\n",
        "trans_mover.step_size(m)\n",
        "trans_mover.apply(pose)"
      ],
      "metadata": {
        "id": "ju8auQs6mYav"
      },
      "execution_count": null,
      "outputs": []
    },
    {
      "cell_type": "markdown",
      "source": [
        "**Move map factory**"
      ],
      "metadata": {
        "id": "yI-bXXpcGicy"
      }
    },
    {
      "cell_type": "code",
      "source": [
        "mmf = pyrosetta.rosetta.core.select.movemap.MoveMapFactory() #initiate\n",
        "mmf.all_bb(setting=True)\n",
        "mmf.all_bondangles(setting=True) #allow bond-angles to move\n",
        "mmf.all_bondlengths(setting=True) #allow bond-lengths to move\n",
        "mmf.all_chi(setting=True) #allow chi-angles to move\n",
        "mmf.all_jumps(setting=True) #allow jumps\n",
        "mmf.set_cartesian(setting=True) \n",
        "\n",
        "mm = mmf.create_movemap_from_pose(pose) #create move map from mmf. (optional)"
      ],
      "metadata": {
        "id": "jXl6JB2RGkm8"
      },
      "execution_count": null,
      "outputs": []
    },
    {
      "cell_type": "markdown",
      "source": [
        "**Display movemap factory**"
      ],
      "metadata": {
        "id": "4RDhuFfAISQd"
      }
    },
    {
      "cell_type": "code",
      "source": [
        "display_pose = pyrosetta.rosetta.protocols.fold_from_loops.movers.DisplayPoseLabelsMover()\n",
        "display_pose.tasks(tf)\n",
        "display_pose.movemap_factory(mmf)\n",
        "display_pose.apply(pose)"
      ],
      "metadata": {
        "id": "yIHVtN9CIW0u"
      },
      "execution_count": null,
      "outputs": []
    },
    {
      "cell_type": "markdown",
      "source": [
        "## Docking"
      ],
      "metadata": {
        "id": "IxbDG6iJzCiP"
      }
    },
    {
      "cell_type": "markdown",
      "source": [
        "**Fold tree**\n",
        "\n",
        "- print(pose.fold_tree()) : view the foldtree\n",
        "- pose.setup_foldtree() : refer to pose part"
      ],
      "metadata": {
        "id": "SnT49dnjzEn5"
      }
    },
    {
      "cell_type": "markdown",
      "source": [
        "**Jump**\n",
        "\n",
        "- pose.jump(n).**get_rotation()** : get rotation matrix for jumpn number n\n",
        "- pose.jump(n).**get_translation()** : get translation vector for jump number n"
      ],
      "metadata": {
        "id": "C3meLseU0Sge"
      }
    },
    {
      "cell_type": "markdown",
      "source": [
        "**DockMCMProtocol**\n",
        "\n",
        "High-resolution docking"
      ],
      "metadata": {
        "id": "V8hiuCh3nvfp"
      }
    },
    {
      "cell_type": "markdown",
      "source": [
        "**DockingLowRes**\n",
        "\n",
        "Low-resolution docking"
      ],
      "metadata": {
        "id": "WlapBu-EnxcT"
      }
    },
    {
      "cell_type": "markdown",
      "source": [
        "**Symmetry**\n",
        "\n",
        "- symmetrize = rosetta.protocols.symmetry**.SetupForSymmetryMover**(symm_file)\n",
        "- symmetrize.apply(pose)\n",
        "\n",
        "---\n",
        "- pose.conformation().**Symmetry_Info()**\n",
        "- pose.conformation().Symmetry_Info()**.bb_is_independent(i)**\n",
        "- pose.conformation().Symmetry_Info()**.bb_follows(i)**"
      ],
      "metadata": {
        "id": "NPk_4lpxapVi"
      }
    }
  ]
}
